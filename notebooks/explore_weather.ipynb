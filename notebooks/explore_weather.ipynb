{
 "cells": [
  {
   "cell_type": "markdown",
   "id": "63d0a69d",
   "metadata": {},
   "source": [
    "# Explore Weather\n",
    "\n",
    "Create your own EDA below! Create as many code-blocks as you need.\n",
    "\n",
    "Once you've completed your EDA, complete the section titled **Reflections** where you will answer questions about your EDA."
   ]
  },
  {
   "cell_type": "code",
   "execution_count": null,
   "id": "6655a736",
   "metadata": {},
   "outputs": [],
   "source": [
    "import pandas as pd \n",
    "import numpy as np\n",
    "\n",
    "import seaborn as sns\n",
    "import matplotlib.pyplot as plt"
   ]
  },
  {
   "cell_type": "code",
   "execution_count": 31,
   "id": "868ea7cd",
   "metadata": {},
   "outputs": [],
   "source": [
    "# import data\n",
    "weather1 = pd.read_csv(\"../data/weather/weather_data1.csv\")\n",
    "weather2 = pd.read_csv(\"../data/weather/weather_data2.csv\")"
   ]
  },
  {
   "cell_type": "code",
   "execution_count": 32,
   "id": "c57b5ccc",
   "metadata": {},
   "outputs": [],
   "source": [
    "# TODO: concatenate your data files together and save to a new csv file (\"../data/weather/weather_data.csv\")\n",
    "weather = pd.concat([weather1, weather2])\n",
    "weather.to_csv(\"../data/weather/weather_data.csv\", index=False)"
   ]
  },
  {
   "cell_type": "code",
   "execution_count": 27,
   "id": "a7c1799e",
   "metadata": {},
   "outputs": [
    {
     "data": {
      "text/html": [
       "<div>\n",
       "<style scoped>\n",
       "    .dataframe tbody tr th:only-of-type {\n",
       "        vertical-align: middle;\n",
       "    }\n",
       "\n",
       "    .dataframe tbody tr th {\n",
       "        vertical-align: top;\n",
       "    }\n",
       "\n",
       "    .dataframe thead th {\n",
       "        text-align: right;\n",
       "    }\n",
       "</style>\n",
       "<table border=\"1\" class=\"dataframe\">\n",
       "  <thead>\n",
       "    <tr style=\"text-align: right;\">\n",
       "      <th></th>\n",
       "      <th>year</th>\n",
       "      <th>rain_max</th>\n",
       "      <th>temp_avg</th>\n",
       "      <th>temp_max</th>\n",
       "      <th>temp_min</th>\n",
       "      <th>hum_max</th>\n",
       "      <th>hum_min</th>\n",
       "      <th>wind_max</th>\n",
       "      <th>wind_avg</th>\n",
       "      <th>subdivision</th>\n",
       "    </tr>\n",
       "  </thead>\n",
       "  <tbody>\n",
       "    <tr>\n",
       "      <th>0</th>\n",
       "      <td>2006-01-01</td>\n",
       "      <td>6.670968</td>\n",
       "      <td>21.803087</td>\n",
       "      <td>27.190323</td>\n",
       "      <td>18.654839</td>\n",
       "      <td>97.129032</td>\n",
       "      <td>57.806452</td>\n",
       "      <td>9.706452</td>\n",
       "      <td>2.075207</td>\n",
       "      <td>Minas Gerais</td>\n",
       "    </tr>\n",
       "    <tr>\n",
       "      <th>1</th>\n",
       "      <td>2007-01-01</td>\n",
       "      <td>1.866250</td>\n",
       "      <td>23.040999</td>\n",
       "      <td>27.649375</td>\n",
       "      <td>18.753125</td>\n",
       "      <td>87.837500</td>\n",
       "      <td>48.493750</td>\n",
       "      <td>8.749375</td>\n",
       "      <td>2.069605</td>\n",
       "      <td>Minas Gerais</td>\n",
       "    </tr>\n",
       "    <tr>\n",
       "      <th>2</th>\n",
       "      <td>2008-01-01</td>\n",
       "      <td>3.777049</td>\n",
       "      <td>20.682400</td>\n",
       "      <td>27.000000</td>\n",
       "      <td>16.216393</td>\n",
       "      <td>96.136612</td>\n",
       "      <td>51.415301</td>\n",
       "      <td>8.865027</td>\n",
       "      <td>1.584408</td>\n",
       "      <td>Minas Gerais</td>\n",
       "    </tr>\n",
       "    <tr>\n",
       "      <th>3</th>\n",
       "      <td>2009-01-01</td>\n",
       "      <td>3.380220</td>\n",
       "      <td>21.023802</td>\n",
       "      <td>27.769231</td>\n",
       "      <td>16.410440</td>\n",
       "      <td>96.054945</td>\n",
       "      <td>49.329670</td>\n",
       "      <td>9.114286</td>\n",
       "      <td>1.611746</td>\n",
       "      <td>Minas Gerais</td>\n",
       "    </tr>\n",
       "    <tr>\n",
       "      <th>4</th>\n",
       "      <td>2010-01-01</td>\n",
       "      <td>2.183516</td>\n",
       "      <td>21.444293</td>\n",
       "      <td>28.580769</td>\n",
       "      <td>16.156044</td>\n",
       "      <td>95.247253</td>\n",
       "      <td>44.648352</td>\n",
       "      <td>9.109341</td>\n",
       "      <td>1.455907</td>\n",
       "      <td>Minas Gerais</td>\n",
       "    </tr>\n",
       "  </tbody>\n",
       "</table>\n",
       "</div>"
      ],
      "text/plain": [
       "        year  rain_max   temp_avg   temp_max   temp_min    hum_max    hum_min  \\\n",
       "0 2006-01-01  6.670968  21.803087  27.190323  18.654839  97.129032  57.806452   \n",
       "1 2007-01-01  1.866250  23.040999  27.649375  18.753125  87.837500  48.493750   \n",
       "2 2008-01-01  3.777049  20.682400  27.000000  16.216393  96.136612  51.415301   \n",
       "3 2009-01-01  3.380220  21.023802  27.769231  16.410440  96.054945  49.329670   \n",
       "4 2010-01-01  2.183516  21.444293  28.580769  16.156044  95.247253  44.648352   \n",
       "\n",
       "   wind_max  wind_avg   subdivision  \n",
       "0  9.706452  2.075207  Minas Gerais  \n",
       "1  8.749375  2.069605  Minas Gerais  \n",
       "2  8.865027  1.584408  Minas Gerais  \n",
       "3  9.114286  1.611746  Minas Gerais  \n",
       "4  9.109341  1.455907  Minas Gerais  "
      ]
     },
     "execution_count": 27,
     "metadata": {},
     "output_type": "execute_result"
    }
   ],
   "source": [
    "# TODO: view first 5 rows of your data\n",
    "weather.head()"
   ]
  },
  {
   "cell_type": "code",
   "execution_count": 29,
   "id": "83e6ecbd",
   "metadata": {},
   "outputs": [
    {
     "name": "stdout",
     "output_type": "stream",
     "text": [
      "                      year  rain_max   temp_avg   temp_max   temp_min  \\\n",
      "count                    9  9.000000   9.000000   9.000000   9.000000   \n",
      "mean   2009-12-31 21:20:00  3.048026  21.359651  27.857154  16.731459   \n",
      "min    2006-01-01 00:00:00  1.617582  20.682400  27.000000  15.684066   \n",
      "25%    2008-01-01 00:00:00  2.183516  21.023802  27.649375  16.156044   \n",
      "50%    2010-01-01 00:00:00  2.601786  21.088660  27.769231  16.318132   \n",
      "75%    2012-01-01 00:00:00  3.380220  21.444293  28.406011  16.410440   \n",
      "max    2014-01-01 00:00:00  6.670968  23.040999  28.580769  18.753125   \n",
      "std                    NaN  1.532379   0.705556   0.546067   1.140333   \n",
      "\n",
      "         hum_max    hum_min  wind_max  wind_avg  \n",
      "count   9.000000   9.000000  9.000000  9.000000  \n",
      "mean   95.282486  49.058520  8.966359  1.615147  \n",
      "min    87.837500  44.648352  8.429121  1.238874  \n",
      "25%    96.054945  46.366120  8.749451  1.459356  \n",
      "50%    96.060440  49.252747  8.974176  1.557709  \n",
      "75%    96.214286  49.390110  9.109341  1.611746  \n",
      "max    97.129032  57.806452  9.706452  2.075207  \n",
      "std     2.840614   3.988251  0.350763  0.280842  \n"
     ]
    }
   ],
   "source": [
    "# TODO: describe your numeric columns\n",
    "print(weather.describe())"
   ]
  },
  {
   "cell_type": "code",
   "execution_count": 28,
   "id": "ab0c8b1f",
   "metadata": {},
   "outputs": [
    {
     "name": "stdout",
     "output_type": "stream",
     "text": [
      "year           0\n",
      "rain_max       0\n",
      "temp_avg       0\n",
      "temp_max       0\n",
      "temp_min       0\n",
      "hum_max        0\n",
      "hum_min        0\n",
      "wind_max       0\n",
      "wind_avg       0\n",
      "subdivision    0\n",
      "dtype: int64\n"
     ]
    }
   ],
   "source": [
    "# TODO: display the null values in your dataframe\n",
    "print(weather.isnull().sum())"
   ]
  },
  {
   "cell_type": "code",
   "execution_count": 4,
   "id": "22fd1940",
   "metadata": {},
   "outputs": [
    {
     "name": "stdout",
     "output_type": "stream",
     "text": [
      "        year  rain_max   temp_avg   temp_max   temp_min    hum_max    hum_min  \\\n",
      "0 2006-01-01  6.670968  21.803087  27.190323  18.654839  97.129032  57.806452   \n",
      "1 2007-01-01  1.866250  23.040999  27.649375  18.753125  87.837500  48.493750   \n",
      "2 2008-01-01  3.777049  20.682400  27.000000  16.216393  96.136612  51.415301   \n",
      "3 2009-01-01  3.380220  21.023802  27.769231  16.410440  96.054945  49.329670   \n",
      "4 2010-01-01  2.183516  21.444293  28.580769  16.156044  95.247253  44.648352   \n",
      "\n",
      "   wind_max  wind_avg   subdivision  \n",
      "0  9.706452  2.075207  Minas Gerais  \n",
      "1  8.749375  2.069605  Minas Gerais  \n",
      "2  8.865027  1.584408  Minas Gerais  \n",
      "3  9.114286  1.611746  Minas Gerais  \n",
      "4  9.109341  1.455907  Minas Gerais  \n",
      "year           0\n",
      "rain_max       0\n",
      "temp_avg       0\n",
      "temp_max       0\n",
      "temp_min       0\n",
      "hum_max        0\n",
      "hum_min        0\n",
      "wind_max       0\n",
      "wind_avg       0\n",
      "subdivision    0\n",
      "dtype: int64\n",
      "                      year  rain_max   temp_avg   temp_max   temp_min  \\\n",
      "count                    9  9.000000   9.000000   9.000000   9.000000   \n",
      "mean   2009-12-31 21:20:00  3.048026  21.359651  27.857154  16.731459   \n",
      "min    2006-01-01 00:00:00  1.617582  20.682400  27.000000  15.684066   \n",
      "25%    2008-01-01 00:00:00  2.183516  21.023802  27.649375  16.156044   \n",
      "50%    2010-01-01 00:00:00  2.601786  21.088660  27.769231  16.318132   \n",
      "75%    2012-01-01 00:00:00  3.380220  21.444293  28.406011  16.410440   \n",
      "max    2014-01-01 00:00:00  6.670968  23.040999  28.580769  18.753125   \n",
      "std                    NaN  1.532379   0.705556   0.546067   1.140333   \n",
      "\n",
      "         hum_max    hum_min  wind_max  wind_avg  \n",
      "count   9.000000   9.000000  9.000000  9.000000  \n",
      "mean   95.282486  49.058520  8.966359  1.615147  \n",
      "min    87.837500  44.648352  8.429121  1.238874  \n",
      "25%    96.054945  46.366120  8.749451  1.459356  \n",
      "50%    96.060440  49.252747  8.974176  1.557709  \n",
      "75%    96.214286  49.390110  9.109341  1.611746  \n",
      "max    97.129032  57.806452  9.706452  2.075207  \n",
      "std     2.840614   3.988251  0.350763  0.280842  \n",
      "Pearson's correlation coefficient: 0.7310888477710282\n",
      "Pearson's correlation coefficient: 0.40631236328356524\n"
     ]
    },
    {
     "data": {
      "image/png": "[encoded data removed]",
      "text/plain": [
       "<Figure size 1000x600 with 1 Axes>"
      ]
     },
     "metadata": {},
     "output_type": "display_data"
    }
   ],
   "source": [
    "# TODO: BEGIN YOUR EDA!\n",
    "from matplotlib.pylab import correlate\n",
    "import pandas as pd\n",
    "\n",
    "# Load data\n",
    "weather = pd.read_csv(\"../data/weather/weather_data1.csv\")\n",
    "weather[\"year\"] = pd.to_datetime(weather[\"year\"], format='%Y')\n",
    "\n",
    "print(weather.head())\n",
    "\n",
    "print(weather.isnull().sum())\n",
    "\n",
    "\n",
    "print(weather.describe())\n",
    "\n",
    "corr_coef = weather['wind_avg'].corr(weather['temp_avg'])\n",
    "print(\"Pearson's correlation coefficient:\", corr_coef)\n",
    "corr_coef = weather['rain_max'].corr(weather['hum_max'])\n",
    "print(\"Pearson's correlation coefficient:\", corr_coef)\n",
    "\n",
    "import matplotlib.pyplot as plt\n",
    "plt.figure(figsize=(10,6))\n",
    "plt.plot(weather['year'], weather['temp_avg'])\n",
    "plt.xlabel('Year')\n",
    "plt.ylabel('Average Temperature')\n",
    "years = weather.year.tolist()\n",
    "every_other = years[::2]\n",
    "plt.xticks(every_other, [str(y) for y in every_other])\n",
    "plt.title('Average Temperature Over Time')\n",
    "plt.show()\n",
    "\n"
   ]
  },
  {
   "cell_type": "markdown",
   "id": "a33e1db5",
   "metadata": {},
   "source": [
    "## Reflections\n",
    "\n",
    "Answer each question based on the visualizations that you've generated.\n",
    "\n",
    "Remember, you must justify your answers with proof! Look back to W6D3 for more context."
   ]
  },
  {
   "cell_type": "markdown",
   "id": "fe46532b",
   "metadata": {},
   "source": [
    "How is average temperature changing across the years for Minas Gerais? Is this increasing or decreasing?\n",
    "\n",
    "The temprature increases over the years, becoming a humid climate."
   ]
  },
  {
   "cell_type": "markdown",
   "id": "ccd4f1e8",
   "metadata": {},
   "source": [
    "How is minimum humidity changing across the years for Minas Gerais? Is this increasing or decreasing?\n",
    "\n",
    "The minimum humidity is increasing over time."
   ]
  },
  {
   "cell_type": "markdown",
   "id": "0b500aa4",
   "metadata": {},
   "source": [
    "How is average wind speed changing across the years for Minas Gerais? Is this increasing or decreasing?\n",
    "\n",
    "The average wind speed is decreasing over time. wind is attributed to dryness; the exact opposite of humidity."
   ]
  },
  {
   "cell_type": "markdown",
   "id": "359afc2e",
   "metadata": {},
   "source": [
    "Which year had the highest maximum record rainfall?\n",
    "\n",
    "The year with the highest maximum recorded rainfall is in 2006 with a record of 6.67."
   ]
  },
  {
   "cell_type": "markdown",
   "id": "be3dab9c",
   "metadata": {},
   "source": [
    "What is the relationship between max rain and max humidity? How *strong* is this relationship? Use pearson's correlation coefficient.\n",
    "\n",
    "the coefficient is 0.4063. the relationship is weak positive linear."
   ]
  },
  {
   "cell_type": "markdown",
   "id": "ee6ea06a",
   "metadata": {},
   "source": [
    "What is the relationship between average wind speed and average temperature? How *strong* is this relationship? Use pearson's correlation coefficient.\n",
    "\n",
    "The coefficient is 0.7311. The avg wind speed and avg temperature has a strong positive linear relationship."
   ]
  }
 ],
 "metadata": {
  "kernelspec": {
   "display_name": ".conda",
   "language": "python",
   "name": "python3"
  },
  "language_info": {
   "codemirror_mode": {
    "name": "ipython",
    "version": 3
   },
   "file_extension": ".py",
   "mimetype": "text/x-python",
   "name": "python",
   "nbconvert_exporter": "python",
   "pygments_lexer": "ipython3",
   "version": "3.12.9"
  }
 },
 "nbformat": 4,
 "nbformat_minor": 5
}
