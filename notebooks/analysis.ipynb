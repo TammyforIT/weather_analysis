{
 "cells": [
  {
   "cell_type": "markdown",
   "id": "63d0a69d",
   "metadata": {},
   "source": [
    "# Analysis\n",
    "\n",
    "Create your own EDA below! Create as many code-blocks as you need.\n",
    "\n",
    "Once you've completed your EDA, complete the section titled **Reflections** where you will answer questions about your EDA."
   ]
  },
  {
   "cell_type": "code",
   "execution_count": 2,
   "id": "6655a736",
   "metadata": {},
   "outputs": [],
   "source": [
    "import pandas as pd \n",
    "import numpy as np\n",
    "\n",
    "import seaborn as sns\n",
    "import matplotlib.pyplot as plt"
   ]
  },
  {
   "cell_type": "code",
   "execution_count": 6,
   "id": "868ea7cd",
   "metadata": {},
   "outputs": [],
   "source": [
    "# import coffee data\n",
    "coffee = pd.read_csv(\"../data/crop/coffee_output.csv\")\n",
    "#import weather data\n",
    "weather = pd.read_csv(\"../data/weather/weather_data1.csv\") \n",
    "weather2 = pd.read_csv(\"../data/weather/weather_data2.csv\")"
   ]
  },
  {
   "cell_type": "markdown",
   "id": "71bfd191",
   "metadata": {},
   "source": [
    "# TODO: Merge these two dataframes together\n",
    "\n"
   ]
  },
  {
   "cell_type": "code",
   "execution_count": 2,
   "id": "7d512a92",
   "metadata": {},
   "outputs": [
    {
     "ename": "NameError",
     "evalue": "name 'coffee' is not defined",
     "output_type": "error",
     "traceback": [
      "\u001b[31m---------------------------------------------------------------------------\u001b[39m",
      "\u001b[31mNameError\u001b[39m                                 Traceback (most recent call last)",
      "\u001b[36mCell\u001b[39m\u001b[36m \u001b[39m\u001b[32mIn[2]\u001b[39m\u001b[32m, line 2\u001b[39m\n\u001b[32m      1\u001b[39m \u001b[38;5;28;01mimport\u001b[39;00m\u001b[38;5;250m \u001b[39m\u001b[34;01mpandas\u001b[39;00m\u001b[38;5;250m \u001b[39m\u001b[38;5;28;01mas\u001b[39;00m\u001b[38;5;250m \u001b[39m\u001b[34;01mpd\u001b[39;00m\n\u001b[32m----> \u001b[39m\u001b[32m2\u001b[39m merged_data = \u001b[43mcoffee\u001b[49m.merge(right=weather2, how = [\u001b[33m\"\u001b[39m\u001b[33minner\u001b[39m\u001b[33m\"\u001b[39m], on =[\u001b[33m'\u001b[39m\u001b[33myear, subdivision\u001b[39m\u001b[33m'\u001b[39m])\n\u001b[32m      3\u001b[39m \u001b[38;5;28mprint\u001b[39m(merged_data)\n",
      "\u001b[31mNameError\u001b[39m: name 'coffee' is not defined"
     ]
    }
   ],
   "source": [
    "import pandas as pd\n",
    "merged_data = coffee.merge(right=weather2, how = [\"inner\"], on =['year, subdivision'])\n",
    "print(merged_data)"
   ]
  },
  {
   "cell_type": "code",
   "execution_count": 3,
   "id": "44f435eb",
   "metadata": {},
   "outputs": [
    {
     "data": {
      "text/plain": [
       "Ellipsis"
      ]
     },
     "execution_count": 3,
     "metadata": {},
     "output_type": "execute_result"
    }
   ],
   "source": [
    "# TODO: View the first 5 rows of your data\n",
    "def view_data(df5):\n",
    "    return view_data\n",
    "..."
   ]
  },
  {
   "cell_type": "code",
   "execution_count": 2,
   "id": "9600b65c",
   "metadata": {},
   "outputs": [
    {
     "data": {
      "text/plain": [
       "Ellipsis"
      ]
     },
     "execution_count": 2,
     "metadata": {},
     "output_type": "execute_result"
    }
   ],
   "source": [
    "# TODO: Check for null values \n",
    "def check_nulls (df):\n",
    "    null_values = df.isnull().sum()\n",
    "    return check_nulls\n",
    "  \n",
    "..."
   ]
  },
  {
   "cell_type": "code",
   "execution_count": 1,
   "id": "ff411571",
   "metadata": {},
   "outputs": [
    {
     "data": {
      "text/plain": [
       "Ellipsis"
      ]
     },
     "execution_count": 1,
     "metadata": {},
     "output_type": "execute_result"
    }
   ],
   "source": [
    "# TODO: Drop rows that contain null values\n",
    "def null_drop(df):\n",
    "    df.dropna(inplace=True)\n",
    "    return df.dropna(inplace=True)\n",
    "..."
   ]
  },
  {
   "cell_type": "code",
   "execution_count": null,
   "id": "22fd1940",
   "metadata": {},
   "outputs": [
    {
     "name": "stdout",
     "output_type": "stream",
     "text": [
      "  country   subdivision     type  60kgs_bag  year  nonbearing_trees  \\\n",
      "0  Brazil  Minas Gerais  Arabica      16.30  2006             581.0   \n",
      "1  Brazil  Minas Gerais  Arabica      23.70  2007             563.0   \n",
      "2  Brazil  Minas Gerais  Arabica      16.85  2008             679.0   \n",
      "3  Brazil  Minas Gerais  Arabica      25.55  2009             663.0   \n",
      "4  Brazil  Minas Gerais  Arabica      22.10  2010             873.0   \n",
      "\n",
      "   bearing_trees  nonbear_hectares  bearing_hectares  \\\n",
      "0         5330.0             175.0            2298.0   \n",
      "1         5730.0             186.0            2245.0   \n",
      "2         5720.0             196.0            2235.0   \n",
      "3         5770.0             188.0            2223.0   \n",
      "4         5725.0             244.0            2151.0   \n",
      "\n",
      "   bearing_trees_per_hectare  nonbearing_trees_per_hectare  rain_max  \\\n",
      "0                     2319.0                        3320.0  6.670968   \n",
      "1                     2552.0                        3030.0  1.866250   \n",
      "2                     2559.0                        3468.0  3.777049   \n",
      "3                     2596.0                        3527.0  3.380220   \n",
      "4                     2662.0                        3578.0  2.183516   \n",
      "\n",
      "    temp_avg   temp_max   temp_min    hum_max    hum_min  wind_max  wind_avg  \n",
      "0  21.803087  27.190323  18.654839  97.129032  57.806452  9.706452  2.075207  \n",
      "1  23.040999  27.649375  18.753125  87.837500  48.493750  8.749375  2.069605  \n",
      "2  20.682400  27.000000  16.216393  96.136612  51.415301  8.865027  1.584408  \n",
      "3  21.023802  27.769231  16.410440  96.054945  49.329670  9.114286  1.611746  \n",
      "4  21.444293  28.580769  16.156044  95.247253  44.648352  9.109341  1.455907  \n",
      "country                         0\n",
      "subdivision                     0\n",
      "type                            0\n",
      "60kgs_bag                       0\n",
      "year                            0\n",
      "nonbearing_trees                0\n",
      "bearing_trees                   0\n",
      "nonbear_hectares                0\n",
      "bearing_hectares                0\n",
      "bearing_trees_per_hectare       0\n",
      "nonbearing_trees_per_hectare    0\n",
      "rain_max                        0\n",
      "temp_avg                        0\n",
      "temp_max                        0\n",
      "temp_min                        0\n",
      "hum_max                         0\n",
      "hum_min                         0\n",
      "wind_max                        0\n",
      "wind_avg                        0\n",
      "dtype: int64\n",
      "       60kgs_bag         year  nonbearing_trees  bearing_trees  \\\n",
      "count  17.000000    17.000000         17.000000      17.000000   \n",
      "mean   26.429412  2014.294118       1006.705882    5789.411765   \n",
      "std     5.191461     5.428682        294.833590     190.549226   \n",
      "min    16.300000  2006.000000        563.000000    5330.000000   \n",
      "25%    23.700000  2010.000000        815.000000    5725.000000   \n",
      "50%    26.000000  2014.000000       1050.000000    5760.000000   \n",
      "75%    29.100000  2019.000000       1185.000000    5820.000000   \n",
      "max    34.800000  2023.000000       1510.000000    6200.000000   \n",
      "\n",
      "       nonbear_hectares  bearing_hectares  bearing_trees_per_hectare  \\\n",
      "count         17.000000         17.000000                  17.000000   \n",
      "mean         299.352941       2125.117647                2730.235294   \n",
      "std           91.957151         87.297539                 172.416838   \n",
      "min          175.000000       2010.000000                2319.000000   \n",
      "25%          234.000000       2060.000000                2662.000000   \n",
      "50%          307.000000       2105.000000                2761.000000   \n",
      "75%          347.000000       2175.000000                2792.000000   \n",
      "max          475.000000       2298.000000                3020.000000   \n",
      "\n",
      "       nonbearing_trees_per_hectare   rain_max   temp_avg   temp_max  \\\n",
      "count                     17.000000  17.000000  17.000000  17.000000   \n",
      "mean                    3373.117647   3.152000  21.283485  28.171186   \n",
      "std                      153.706653   1.223142   0.566301   0.569878   \n",
      "min                     3030.000000   1.617582  20.682400  27.000000   \n",
      "25%                     3281.000000   2.255738  20.959536  27.769231   \n",
      "50%                     3421.000000   2.876923  21.088660  28.406011   \n",
      "75%                     3483.000000   3.769231  21.444293  28.580769   \n",
      "max                     3578.000000   6.670968  23.040999  29.010989   \n",
      "\n",
      "        temp_min    hum_max    hum_min   wind_max   wind_avg  \n",
      "count  17.000000  17.000000  17.000000  17.000000  17.000000  \n",
      "mean   16.475243  96.397840  48.615141   8.484942   1.308954  \n",
      "std     0.915580   2.373703   3.079306   0.626471   0.399985  \n",
      "min    15.268681  87.837500  44.648352   7.484426   0.812202  \n",
      "25%    16.003279  96.060440  47.475410   7.898352   0.929144  \n",
      "50%    16.321311  97.049451  48.493750   8.549451   1.238874  \n",
      "75%    16.475275  97.450549  49.329670   8.974176   1.557709  \n",
      "max    18.753125  98.500000  57.806452   9.706452   2.075207  \n",
      "Correlation with 60kgs_bag:\n",
      "  temp_avg: -0.12477217306378174\n",
      "  hum_min: -0.5401709088326815\n",
      "  rain_max: -0.3958109913734919\n",
      "  wind_avg: -0.7073271023009807\n",
      "\n",
      "Correlation with bearing_trees_per_hectare:\n",
      "  temp_avg: -0.4320757039885082\n",
      "  hum_min: -0.5512035768352691\n",
      "  rain_max: -0.25352398713240387\n",
      "  wind_avg: -0.8939870098310204\n",
      "\n"
     ]
    },
    {
     "data": {
      "image/png": "[encoded data removed]",
      "text/plain": [
       "<Figure size 640x480 with 1 Axes>"
      ]
     },
     "metadata": {},
     "output_type": "display_data"
    },
    {
     "name": "stdout",
     "output_type": "stream",
     "text": [
      "       60kgs_bag         year  nonbearing_trees  bearing_trees  \\\n",
      "count  17.000000    17.000000         17.000000      17.000000   \n",
      "mean   26.429412  2014.294118       1006.705882    5789.411765   \n",
      "std     5.191461     5.428682        294.833590     190.549226   \n",
      "min    16.300000  2006.000000        563.000000    5330.000000   \n",
      "25%    23.700000  2010.000000        815.000000    5725.000000   \n",
      "50%    26.000000  2014.000000       1050.000000    5760.000000   \n",
      "75%    29.100000  2019.000000       1185.000000    5820.000000   \n",
      "max    34.800000  2023.000000       1510.000000    6200.000000   \n",
      "\n",
      "       nonbear_hectares  bearing_hectares  bearing_trees_per_hectare  \\\n",
      "count         17.000000         17.000000                  17.000000   \n",
      "mean         299.352941       2125.117647                2730.235294   \n",
      "std           91.957151         87.297539                 172.416838   \n",
      "min          175.000000       2010.000000                2319.000000   \n",
      "25%          234.000000       2060.000000                2662.000000   \n",
      "50%          307.000000       2105.000000                2761.000000   \n",
      "75%          347.000000       2175.000000                2792.000000   \n",
      "max          475.000000       2298.000000                3020.000000   \n",
      "\n",
      "       nonbearing_trees_per_hectare   rain_max   temp_avg   temp_max  \\\n",
      "count                     17.000000  17.000000  17.000000  17.000000   \n",
      "mean                    3373.117647   3.152000  21.283485  28.171186   \n",
      "std                      153.706653   1.223142   0.566301   0.569878   \n",
      "min                     3030.000000   1.617582  20.682400  27.000000   \n",
      "25%                     3281.000000   2.255738  20.959536  27.769231   \n",
      "50%                     3421.000000   2.876923  21.088660  28.406011   \n",
      "75%                     3483.000000   3.769231  21.444293  28.580769   \n",
      "max                     3578.000000   6.670968  23.040999  29.010989   \n",
      "\n",
      "        temp_min    hum_max    hum_min   wind_max   wind_avg  \n",
      "count  17.000000  17.000000  17.000000  17.000000  17.000000  \n",
      "mean   16.475243  96.397840  48.615141   8.484942   1.308954  \n",
      "std     0.915580   2.373703   3.079306   0.626471   0.399985  \n",
      "min    15.268681  87.837500  44.648352   7.484426   0.812202  \n",
      "25%    16.003279  96.060440  47.475410   7.898352   0.929144  \n",
      "50%    16.321311  97.049451  48.493750   8.549451   1.238874  \n",
      "75%    16.475275  97.450549  49.329670   8.974176   1.557709  \n",
      "max    18.753125  98.500000  57.806452   9.706452   2.075207  \n"
     ]
    }
   ],
   "source": [
    "\n",
    "import pandas as pd\n",
    "import matplotlib.pyplot as plt\n",
    "\n",
    "# Load data\n",
    "coffee = pd.read_csv(\"../data/crop/coffee_output.csv\")\n",
    "\n",
    "# Import and concatenate weather data\n",
    "weather1 = pd.read_csv(\"../data/weather/weather_data1.csv\")\n",
    "weather2 = pd.read_csv(\"../data/weather/weather_data2.csv\")\n",
    "weather = pd.concat([weather1, weather2])\n",
    "\n",
    "# Merge data\n",
    "df = pd.merge(coffee, weather, how='inner', on=['year', 'subdivision'])\n",
    "\n",
    "# Print first 5 rows \n",
    "print(df.head())\n",
    "df.dropna(inplace=True)\n",
    "print(df.isnull().sum())\n",
    "\n",
    "# Print descriptive analysis\n",
    "print(df.describe())\n",
    "\n",
    "# Calculate Pearson's correlation coefficient\n",
    "weather_features = ['temp_avg', 'hum_min', 'rain_max', 'wind_avg']\n",
    "target_variables = ['60kgs_bag', 'bearing_trees_per_hectare']\n",
    "#target targets strings.\n",
    "for target in target_variables:\n",
    "    print(f\"Correlation with {target}:\")\n",
    "    for feature in weather_features:\n",
    "        correlation_coefficient = df[feature].corr(df[target])\n",
    "        print(f\"  {feature}: {correlation_coefficient}\")\n",
    "    print()\n",
    "\n",
    "# Plot scatter plot\n",
    "plt.scatter(df['temp_avg'], df['60kgs_bag'])\n",
    "plt.xlabel('Average Temperature')\n",
    "plt.ylabel('60kgs Bag')\n",
    "plt.show()\n",
    "\n",
    "print(df.describe())"
   ]
  },
  {
   "cell_type": "markdown",
   "id": "a33e1db5",
   "metadata": {},
   "source": [
    "## Reflections\n",
    "\n",
    "Answer each question based on the visualizations that you've generated.\n",
    "\n",
    "Remember, you must justify your answers with proof! Look back to W6D3 for more context."
   ]
  },
  {
   "cell_type": "markdown",
   "id": "fe46532b",
   "metadata": {},
   "source": [
    "What is the relationship between temp_avg and 60kgs_bag? How *strong* is this relationship? Use pearson's correlation coefficient. The pearson coefficent value is -0.124. Its a very weak negative correlation.\n",
    "\n"
   ]
  },
  {
   "cell_type": "markdown",
   "id": "ccd4f1e8",
   "metadata": {},
   "source": [
    "What is the relationship between minimum humidity and 60kgs_bag? How *strong* is this relationship? Use pearson's correlation coefficient.\n",
    "\n",
    "The coefficent is -5.401, a moderate negative correlation. the absolute number is 5.402 a moderate relationship."
   ]
  },
  {
   "cell_type": "markdown",
   "id": "0b500aa4",
   "metadata": {},
   "source": [
    "What is the relationship between rain_max and 60kgs_bag? How *strong* is this relationship? Use pearson's correlation coefficient.\n",
    "\n",
    "the coefficient is -0.39, weak negative correlation."
   ]
  },
  {
   "cell_type": "markdown",
   "id": "be3dab9c",
   "metadata": {},
   "source": [
    "What is the relationship between average wind speed and 60kgs_bag? How *strong* is this relationship? Use pearson's correlation coefficient.\n",
    "\n",
    "The relationship between the two is strong negative relationship and has a coefficient of -0707. the absolute value is 0.707. The high wind speeds must be contributing to lost of moisture in the coffee beans."
   ]
  },
  {
   "cell_type": "markdown",
   "id": "ee6ea06a",
   "metadata": {},
   "source": [
    "Perform the same bivariate analysis between the mentioned weather columns (temp_avg, hum_min, rain_max, and wind_avg) and a coffee-related column of your choice (bearing_trees, nonbearing_trees, bearing_trees_per_hectare, etc). Which directions do these relationships follow? What are the strengths of these relationships?\n",
    "\n",
    "temp_avg: -0.432 (Moderate negative correlation) hum_min: -0.551 (Moderate negative correlation) rain_max: -0.253(Weak negative correlation) wind_avg: -0.893 (Strong negative correlation). The pattern is the weather is a disadvantage to coffee beans growth."
   ]
  },
  {
   "cell_type": "markdown",
   "id": "18ba1ed2",
   "metadata": {},
   "source": [
    "Which weather factor seems to influence coffee production the most? \n",
    "\n",
    "The average wind speed with the coeficient of -0.707."
   ]
  },
  {
   "cell_type": "markdown",
   "id": "95e8c38b",
   "metadata": {},
   "source": [
    "Which data would you collect to continue exploring the impacts of weather and economic forces on coffee production?\n",
    "\n",
    "I would collect the following data: the weather data specifically 1 and 2. The coffee production by hectare, region, and year. Also the inflation and growth rate. I would study the perciptation and climate changes. The trends of coffe consumption might be the main priority, jut before avg wind rates."
   ]
  },
  {
   "cell_type": "markdown",
   "id": "0ca6f497",
   "metadata": {},
   "source": [
    "If you were preparing a report to provide coffee farmers, which weather condititions would you state are the most favorable for coffee growing (assuming any exist)?\n",
    "temp_avg should be between 69-70 F. the mean is 70.31 f.\n",
    "hum_min should be low between 47-49. The mean is 48.\n",
    "Rain show be releatvely slow between 2.26-3.77 f. The mean is 3.15\n",
    "wind_avg should be the lowest between 0 and 1.56. the mean is 1.31\n",
    "Answer here"
   ]
  }
 ],
 "metadata": {
  "kernelspec": {
   "display_name": ".conda",
   "language": "python",
   "name": "python3"
  },
  "language_info": {
   "codemirror_mode": {
    "name": "ipython",
    "version": 3
   },
   "file_extension": ".py",
   "mimetype": "text/x-python",
   "name": "python",
   "nbconvert_exporter": "python",
   "pygments_lexer": "ipython3",
   "version": "3.12.9"
  }
 },
 "nbformat": 4,
 "nbformat_minor": 5
}
